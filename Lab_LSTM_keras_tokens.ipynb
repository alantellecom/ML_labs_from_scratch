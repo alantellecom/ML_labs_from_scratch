{
  "nbformat": 4,
  "nbformat_minor": 0,
  "metadata": {
    "colab": {
      "name": "Lab_LSTM_keras_tokens.ipynb",
      "provenance": [],
      "authorship_tag": "ABX9TyPcpDkFrBi91OsNDMLfE4u/",
      "include_colab_link": true
    },
    "kernelspec": {
      "name": "python3",
      "display_name": "Python 3"
    }
  },
  "cells": [
    {
      "cell_type": "markdown",
      "metadata": {
        "id": "view-in-github",
        "colab_type": "text"
      },
      "source": [
        "<a href=\"https://colab.research.google.com/github/alantellecom/ML_labs_from_scratch/blob/master/Lab_LSTM_keras_tokens.ipynb\" target=\"_parent\"><img src=\"https://colab.research.google.com/assets/colab-badge.svg\" alt=\"Open In Colab\"/></a>"
      ]
    },
    {
      "cell_type": "code",
      "metadata": {
        "id": "wEXaLkV1GXMH"
      },
      "source": [
        "import numpy as np\r\n",
        "import tensorflow as tf\r\n",
        "from sklearn.model_selection import train_test_split"
      ],
      "execution_count": 1,
      "outputs": []
    },
    {
      "cell_type": "code",
      "metadata": {
        "id": "Fl7ZSwRSGPPa"
      },
      "source": [
        "# Set seed such that we always get the same dataset\r\n",
        "np.random.seed(42)\r\n",
        "\r\n",
        "def generate_dataset(num_sequences=100):\r\n",
        "\r\n",
        "    samples = []\r\n",
        "    \r\n",
        "    for i in range(num_sequences): \r\n",
        "        num_tokens = np.random.randint(1, 10)\r\n",
        "        sample = list(['0'] * num_tokens + ['1'] * num_tokens + ['2'])\r\n",
        "        samples.append(sample)\r\n",
        "        \r\n",
        "    return samples\r\n",
        "\r\n",
        "sequences = generate_dataset()"
      ],
      "execution_count": 2,
      "outputs": []
    },
    {
      "cell_type": "code",
      "metadata": {
        "colab": {
          "base_uri": "https://localhost:8080/"
        },
        "id": "eb_9Ift8WClc",
        "outputId": "617671a3-b9b5-4de3-9f2d-a17ff6a83617"
      },
      "source": [
        "print('A single sample from the generated dataset:')\r\n",
        "print(sequences[0])"
      ],
      "execution_count": 3,
      "outputs": [
        {
          "output_type": "stream",
          "text": [
            "A single sample from the generated dataset:\n",
            "['0', '0', '0', '0', '0', '0', '0', '1', '1', '1', '1', '1', '1', '1', '2']\n"
          ],
          "name": "stdout"
        }
      ]
    },
    {
      "cell_type": "code",
      "metadata": {
        "id": "W5YY98q3lytp"
      },
      "source": [
        "def get_inputs_targets_from_sequences(sequences):\r\n",
        "        # Define empty lists\r\n",
        "        inputs_list, targets_list = [], []\r\n",
        "        \r\n",
        "        # Append inputs and targets s.t. both lists contain L-1 words of a sentence of length L\r\n",
        "        # but targets are shifted right by one so that we can predict the next word\r\n",
        "        for sequence in sequences:\r\n",
        "            inputs_list.append(sequence[:-1])\r\n",
        "            targets_list.append(sequence[1:])\r\n",
        "            \r\n",
        "        return inputs_list, targets_list"
      ],
      "execution_count": 4,
      "outputs": []
    },
    {
      "cell_type": "code",
      "metadata": {
        "id": "Bi1Y1Ok1mJ-H"
      },
      "source": [
        "X_list, Y_list = get_inputs_targets_from_sequences(sequences) # retorna \"list of lists\" em x e y, onde a lista aninhada em cada uma (x ou y) tem tamanho variável (sentenças)"
      ],
      "execution_count": 5,
      "outputs": []
    },
    {
      "cell_type": "code",
      "metadata": {
        "colab": {
          "base_uri": "https://localhost:8080/"
        },
        "id": "brauyC-VyztD",
        "outputId": "1efbba8b-64ac-4c3e-ed58-a2a8ede718c5"
      },
      "source": [
        "len(X_list)"
      ],
      "execution_count": null,
      "outputs": [
        {
          "output_type": "execute_result",
          "data": {
            "text/plain": [
              "100"
            ]
          },
          "metadata": {
            "tags": []
          },
          "execution_count": 158
        }
      ]
    },
    {
      "cell_type": "code",
      "metadata": {
        "id": "q0Gzea3vmsA2"
      },
      "source": [
        "X = tf.keras.preprocessing.sequence.pad_sequences(X_list, maxlen=10) # normaliza as colunas das listas aninhada, fornecendo uma matriz padrão len(X_list) x 10"
      ],
      "execution_count": 6,
      "outputs": []
    },
    {
      "cell_type": "code",
      "metadata": {
        "colab": {
          "base_uri": "https://localhost:8080/"
        },
        "id": "OqNMkECk1d28",
        "outputId": "5896793a-54fe-4d41-a61a-9a4dd78a218b"
      },
      "source": [
        "type(X)"
      ],
      "execution_count": null,
      "outputs": [
        {
          "output_type": "execute_result",
          "data": {
            "text/plain": [
              "numpy.ndarray"
            ]
          },
          "metadata": {
            "tags": []
          },
          "execution_count": 160
        }
      ]
    },
    {
      "cell_type": "code",
      "metadata": {
        "colab": {
          "base_uri": "https://localhost:8080/"
        },
        "id": "ZqF0GjHjm3xj",
        "outputId": "27469ac5-9bca-4da1-fa16-693e7c7ff7fe"
      },
      "source": [
        "X.shape"
      ],
      "execution_count": null,
      "outputs": [
        {
          "output_type": "execute_result",
          "data": {
            "text/plain": [
              "(100, 10)"
            ]
          },
          "metadata": {
            "tags": []
          },
          "execution_count": 161
        }
      ]
    },
    {
      "cell_type": "code",
      "metadata": {
        "id": "hT0lL2T5pOCl"
      },
      "source": [
        "Y = tf.keras.preprocessing.sequence.pad_sequences(Y_list, maxlen=10)"
      ],
      "execution_count": 8,
      "outputs": []
    },
    {
      "cell_type": "code",
      "metadata": {
        "id": "JeNoLWQLrJ8I"
      },
      "source": [
        "train_x, test_x, train_y, test_y = train_test_split(X, Y, random_state=0, test_size=0.20)"
      ],
      "execution_count": 9,
      "outputs": []
    },
    {
      "cell_type": "code",
      "metadata": {
        "colab": {
          "base_uri": "https://localhost:8080/"
        },
        "id": "5ST5YA_OsbLs",
        "outputId": "50e0ec1e-d21b-41f1-b80c-1d4cd1f7c2d7"
      },
      "source": [
        "train_x.shape"
      ],
      "execution_count": 10,
      "outputs": [
        {
          "output_type": "execute_result",
          "data": {
            "text/plain": [
              "(80, 10)"
            ]
          },
          "metadata": {
            "tags": []
          },
          "execution_count": 10
        }
      ]
    },
    {
      "cell_type": "code",
      "metadata": {
        "colab": {
          "base_uri": "https://localhost:8080/"
        },
        "id": "8Yj9a9VP6TFM",
        "outputId": "5359702c-2093-4b40-f7f3-8ddee9a15990"
      },
      "source": [
        "train_x[0,:]"
      ],
      "execution_count": 11,
      "outputs": [
        {
          "output_type": "execute_result",
          "data": {
            "text/plain": [
              "array([0, 0, 0, 1, 1, 1, 1, 1, 1, 1], dtype=int32)"
            ]
          },
          "metadata": {
            "tags": []
          },
          "execution_count": 11
        }
      ]
    },
    {
      "cell_type": "code",
      "metadata": {
        "id": "55_ddKqynDvm"
      },
      "source": [
        "model = tf.keras.Sequential()"
      ],
      "execution_count": 12,
      "outputs": []
    },
    {
      "cell_type": "code",
      "metadata": {
        "id": "u0fB63TIsvWZ"
      },
      "source": [
        "dict_size = 3 # três palavras mapeadas nas sequencias: 0, 1 e 2"
      ],
      "execution_count": 13,
      "outputs": []
    },
    {
      "cell_type": "code",
      "metadata": {
        "id": "k3Dz53Qjn-ue"
      },
      "source": [
        "model.add(tf.keras.layers.Embedding(input_dim=dict_size, output_dim=3, input_shape=(train_x.shape[1],)))# Embedding é a codificação utilizada para cada palavra na serie temporal (aqui 3 palavras por sample), ou seja, aqui cada palavra está sendo representada por 3 colunas"
      ],
      "execution_count": 14,
      "outputs": []
    },
    {
      "cell_type": "code",
      "metadata": {
        "id": "iFfZa4smoVxF"
      },
      "source": [
        "model.add(tf.keras.layers.LSTM(units=36, activation='tanh'))"
      ],
      "execution_count": 15,
      "outputs": []
    },
    {
      "cell_type": "code",
      "metadata": {
        "id": "BlOtfIJ1oYOt"
      },
      "source": [
        "model.add(tf.keras.layers.Dense(units=10, activation='softmax'))"
      ],
      "execution_count": 16,
      "outputs": []
    },
    {
      "cell_type": "code",
      "metadata": {
        "id": "MtfTZZ8WolbV"
      },
      "source": [
        "model.compile(optimizer='rmsprop', loss='binary_crossentropy', metrics=['accuracy'])"
      ],
      "execution_count": 17,
      "outputs": []
    },
    {
      "cell_type": "code",
      "metadata": {
        "colab": {
          "base_uri": "https://localhost:8080/"
        },
        "id": "_PTjnp7topu0",
        "outputId": "443ee32f-1c8c-438b-dacb-1019f8e61005"
      },
      "source": [
        "model.fit(train_x, train_y, epochs=3)"
      ],
      "execution_count": 19,
      "outputs": [
        {
          "output_type": "stream",
          "text": [
            "Epoch 1/3\n",
            "3/3 [==============================] - 2s 9ms/step - loss: 0.6913 - accuracy: 0.2727\n",
            "Epoch 2/3\n",
            "3/3 [==============================] - 0s 7ms/step - loss: 0.6786 - accuracy: 1.0000\n",
            "Epoch 3/3\n",
            "3/3 [==============================] - 0s 8ms/step - loss: 0.6626 - accuracy: 1.0000\n"
          ],
          "name": "stdout"
        },
        {
          "output_type": "execute_result",
          "data": {
            "text/plain": [
              "<tensorflow.python.keras.callbacks.History at 0x7f75eca424e0>"
            ]
          },
          "metadata": {
            "tags": []
          },
          "execution_count": 19
        }
      ]
    },
    {
      "cell_type": "code",
      "metadata": {
        "colab": {
          "base_uri": "https://localhost:8080/"
        },
        "id": "5sKuhpJhtQY2",
        "outputId": "31a6dd8a-b5f3-4436-950c-d3dce9b0c40b"
      },
      "source": [
        "test_loss, test_acurracy = model.evaluate(test_x, test_y)"
      ],
      "execution_count": null,
      "outputs": [
        {
          "output_type": "stream",
          "text": [
            "1/1 [==============================] - 0s 409ms/step - loss: 0.4297 - accuracy: 1.0000\n"
          ],
          "name": "stdout"
        }
      ]
    }
  ]
}